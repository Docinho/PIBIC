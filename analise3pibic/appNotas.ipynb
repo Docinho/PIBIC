{
 "cells": [
  {
   "cell_type": "code",
   "execution_count": 1,
   "metadata": {
    "collapsed": true
   },
   "outputs": [],
   "source": [
    "import pandas as pd\n",
    "from sklearn import linear_model\n",
    "import numpy as np\n",
    "import operator\n",
    "import rpy2.rinterface \n",
    "%load_ext rpy2.ipython"
   ]
  },
  {
   "cell_type": "code",
   "execution_count": 2,
   "metadata": {
    "collapsed": true
   },
   "outputs": [],
   "source": [
    "alunos = pd.read_csv(\"../alunosUFCGAnon.csv\")\n",
    "pre_requisitos = pd.read_csv(\"../preRequisitos.csv\")\n",
    "periodo_disc = pd.read_csv(\"../periodoDisciplinas.csv\")"
   ]
  },
  {
   "cell_type": "code",
   "execution_count": 3,
   "metadata": {
    "scrolled": true
   },
   "outputs": [
    {
     "name": "stderr",
     "output_type": "stream",
     "text": [
      "/home/livia/anaconda3/lib/python3.6/site-packages/ipykernel_launcher.py:6: SettingWithCopyWarning: \n",
      "A value is trying to be set on a copy of a slice from a DataFrame.\n",
      "Try using .loc[row_indexer,col_indexer] = value instead\n",
      "\n",
      "See the caveats in the documentation: http://pandas.pydata.org/pandas-docs/stable/indexing.html#indexing-view-versus-copy\n",
      "  \n"
     ]
    }
   ],
   "source": [
    "# ajustando data frame que servirá de entrada\n",
    "alunos_cc = alunos.query(\"Cod_Curso == 14102100 & Tipo == 'Obrigatória' \")\n",
    "# alunos_cc.sort_values('Media_Disciplina', ascending=False).drop_duplicates(['Nome_Disciplina','Matricula'])\n",
    "COMPUTACAOtdf = pd.pivot_table(alunos_cc, values = 'Media_Disciplina', index = ['Nome_Disciplina'], columns = 'Matricula')\n",
    "notas_alunos = alunos_cc\n",
    "notas_alunos['Matricula'] = alunos_cc['Matricula'].map(lambda x: x.lstrip('B'))\n",
    "notas_alunos = pd.pivot_table(notas_alunos, values = 'Media_Disciplina', index = ['Matricula'], columns = 'Nome_Disciplina')\n",
    "# cadeiras que não exigem prerrequisito\n",
    "sem_prerequisito = ['DIREITO E CIDADANIA','GERÊNCIA DA INFORMAÇÃO','INFORMÁTICA E SOCIEDADE','MATEMÁTICA DISCRETA',\n",
    "                    'METODOLOGIA CIENTÍFICA','SEMINÁRIOS (EDUCAÇÃO AMBIENTAL)','CALCULO DIFERENCIAL E INTEGRAL I',\n",
    "                     'PROGRAMAÇÃO I','LABORATÓRIO DE PROGRAMAÇÃO I','ÁLGEBRA VETORIAL E GEOMETRIA ANALÍTICA',\n",
    "                       'LEITURA E PRODUCAO DE TEXTOS','INTRODUÇÃO A COMPUTAÇÃO']\n"
   ]
  },
  {
   "cell_type": "code",
   "execution_count": 4,
   "metadata": {},
   "outputs": [
    {
     "name": "stderr",
     "output_type": "stream",
     "text": [
      "/home/livia/anaconda3/lib/python3.6/site-packages/ipykernel_launcher.py:2: SettingWithCopyWarning: \n",
      "A value is trying to be set on a copy of a slice from a DataFrame.\n",
      "Try using .loc[row_indexer,col_indexer] = value instead\n",
      "\n",
      "See the caveats in the documentation: http://pandas.pydata.org/pandas-docs/stable/indexing.html#indexing-view-versus-copy\n",
      "  \n"
     ]
    }
   ],
   "source": [
    "notas_aprovados = alunos_cc.loc[alunos_cc.Situacao == 'Aprovado']\n",
    "notas_aprovados['Matricula'] = notas_aprovados['Matricula'].map(lambda x: x.lstrip('B'))\n",
    "notas_aprovados = pd.pivot_table(notas_aprovados, values = 'Media_Disciplina', index = ['Matricula'], columns = 'Nome_Disciplina')"
   ]
  },
  {
   "cell_type": "code",
   "execution_count": 5,
   "metadata": {
    "collapsed": true
   },
   "outputs": [],
   "source": [
    "%run util.ipynb\n",
    "corr_disciplinas = notas_alunos.corr() "
   ]
  },
  {
   "cell_type": "code",
   "execution_count": 6,
   "metadata": {
    "collapsed": true
   },
   "outputs": [],
   "source": [
    "# guardandos as regressoes para cada disciplina em um dicionario\n",
    "disciplinas_regressoes = {}\n",
    "regressoes = {}\n",
    "regressao = linear_model.LinearRegression()\n",
    "for disciplina in periodo_disc[\"DISCIPLINA\"]:\n",
    "    # pegando o periodo da disciplina da iteração\n",
    "    periodo = periodo_disc.loc[periodo_disc[\"DISCIPLINA\"] == disciplina]['PERIODO'].values[0]\n",
    "    # pegando as disciplinas que são do mesmo periodo ou anteriores a disciplina em questão\n",
    "    disciplinas_regressao = periodo_disc.loc[periodo_disc[\"PERIODO\"]<=periodo][\"DISCIPLINA\"].values\n",
    "    disciplinas_regressao = np.setdiff1d(corr_disciplinas.loc[disciplinas_regressao].sort_values(by=disciplina,ascending=False).drop([disciplina])[[disciplina]][:5].index, disciplina)\n",
    "    \n",
    "    disciplinas_regressoes[disciplina] = disciplinas_regressao\n",
    "    disciplinas_regressao = notas_alunos[np.append(disciplinas_regressao,disciplina)].dropna(axis=0,how=\"any\")\n",
    "\n",
    "    X = disciplinas_regressao.loc[:,disciplinas_regressao.columns != disciplina]\n",
    "    y = disciplinas_regressao.loc[:,disciplinas_regressao.columns == disciplina]\n",
    "    regressoes[disciplina] = regressao.fit(X,y)\n",
    "\n"
   ]
  },
  {
   "cell_type": "code",
   "execution_count": 7,
   "metadata": {},
   "outputs": [
    {
     "name": "stdout",
     "output_type": "stream",
     "text": [
      "Notas do historico do aluno:\n",
      "Nome_Disciplina\n",
      "ALGEBRA LINEAR I                            6.9\n",
      "ANÁLISE E TÉCNICA DE ALGORITMOS             9.0\n",
      "BANCO DE DADOS I                            7.1\n",
      "CALCULO DIFERENCIAL E INTEGRAL I            5.2\n",
      "CALCULO DIFERENCIAL E INTEGRAL II           7.4\n",
      "ENGENHARIA DE SOFTWARE I                    8.9\n",
      "ESTRUTURA DE DADOS E ALGORITMOS             7.6\n",
      "FUNDAMENTOS DE FÍSICA CLÁSSICA              7.3\n",
      "FUNDAMENTOS DE FÍSICA MODERNA               5.8\n",
      "GERÊNCIA DA INFORMAÇÃO                      5.3\n",
      "INFORMÁTICA E SOCIEDADE                     8.4\n",
      "INTRODUÇÃO A COMPUTAÇÃO                     7.7\n",
      "LAB.DE ESTRUTURA DE DADOS E ALGORITMOS      8.7\n",
      "LAB.DE ORG.E ARQUITETURA DE COMPUTADORES    7.4\n",
      "LABORATÓRIO DE PROGRAMAÇÃO I                8.7\n",
      "LABORATÓRIO DE PROGRAMAÇÃO II               8.4\n",
      "LEITURA E PRODUCAO DE TEXTOS                7.7\n",
      "LÓGICA MATEMÁTICA                           7.0\n",
      "MATEMÁTICA DISCRETA                         7.6\n",
      "METODOS ESTATISTICOS                        7.8\n",
      "ORG.E ARQUITETURA DE COMPUTADORES I         7.7\n",
      "PARADIGMAS DE LING. DE PROGRAMAÇÃO          9.8\n",
      "PROBABILIDADE E ESTATISTICA                 5.0\n",
      "PROGRAMAÇÃO I                               8.6\n",
      "PROGRAMAÇÃO II                              8.9\n",
      "SISTEMAS DE INFORMAÇÃO I                    9.3\n",
      "SISTEMAS DE INFORMAÇÃO II                   8.7\n",
      "TEORIA DA COMPUTAÇÃO                        7.0\n",
      "TEORIA DOS GRAFOS                           7.2\n",
      "ÁLGEBRA VETORIAL E GEOMETRIA ANALÍTICA      7.3\n",
      "Name: 15160, dtype: float64\n",
      "-----------\n",
      "Notas preditas: \n",
      "COMPILADORES :  7.32485270736\n",
      "METODOLOGIA CIENTÍFICA :  6.11772857647\n",
      "================ \n",
      "\n"
     ]
    }
   ],
   "source": [
    "alunos_predicao = notas_aprovados.sample(n=1)\n",
    "for index, aluno in alunos_predicao.iterrows():\n",
    "    sem_prerequisito = ['DIREITO E CIDADANIA','GERÊNCIA DA INFORMAÇÃO','INFORMÁTICA E SOCIEDADE','MATEMÁTICA DISCRETA',\n",
    "                        'METODOLOGIA CIENTÍFICA','SEMINÁRIOS (EDUCAÇÃO AMBIENTAL)','CALCULO DIFERENCIAL E INTEGRAL I',\n",
    "                         'PROGRAMAÇÃO I','LABORATÓRIO DE PROGRAMAÇÃO I','ÁLGEBRA VETORIAL E GEOMETRIA ANALÍTICA',\n",
    "                           'LEITURA E PRODUCAO DE TEXTOS','INTRODUÇÃO A COMPUTAÇÃO']\n",
    "    \n",
    "    # coletando quais cadeiras o aluno já foi aprovado\n",
    "    cadeiras_aluno = aluno\n",
    "    cadeiras_pagas = cadeiras_aluno.dropna().to_frame()\n",
    "\n",
    "    cadeira_possivel = []\n",
    "\n",
    "    # vendo quais cadeiras sem prerrequisito já foram pagas pelo aluno\n",
    "    for cadeira in sem_prerequisito:\n",
    "        if not cadeira in cadeiras_pagas.index:\n",
    "            cadeira_possivel.append(cadeira)\n",
    "    prox_possiveis_cadeiras = prox_cadeiras_nome(cadeiras_pagas, cadeira_possivel, pre_requisitos)\n",
    "    \n",
    "    dict_notas = {}\n",
    "    for cadeira in prox_possiveis_cadeiras:\n",
    "        if not (cadeiras_aluno[disciplinas_regressoes[cadeira]].isnull().values.any()):\n",
    "            dict_notas[cadeira]=(regressoes[cadeira].predict(np.array(cadeiras_aluno[disciplinas_regressoes[cadeira]].fillna(0).values.reshape(1,-1))))[0][0]\n",
    "        \n",
    " \n",
    "    \n",
    "    \n",
    "#     # imprimindo notas preditas\n",
    "    list_notas = sorted(dict_notas.items(), key = operator.itemgetter(1), reverse = True)\n",
    "    print(\"Notas do historico do aluno:\")\n",
    "    print(aluno.T.dropna())\n",
    "    print(\"-----------\")\n",
    "    print(\"Notas preditas: \")\n",
    "    if not list_notas:\n",
    "        print(\"Sem recomendaçao\")\n",
    "    else:\n",
    "        for cadeira in list_notas: \n",
    "            print(cadeira[0], \": \", cadeira[1])\n",
    "    \n",
    "    print(\"================ \\n\")\n"
   ]
  },
  {
   "cell_type": "code",
   "execution_count": null,
   "metadata": {},
   "outputs": [
    {
     "name": "stdout",
     "output_type": "stream",
     "text": [
      "Stored 'df' (DataFrame)\n"
     ]
    }
   ],
   "source": [
    "# %store list_notas\n",
    "d = {'disciplinas': list(dict_notas.keys()), 'notas': list(dict_notas.values())}\n",
    "df = pd.DataFrame(data = d)\n",
    "%store df\n",
    "# dict_notas"
   ]
  },
  {
   "cell_type": "code",
   "execution_count": null,
   "metadata": {
    "collapsed": true
   },
   "outputs": [],
   "source": [
    "%%R -i df\n",
    "library(shiny)\n",
    "\n",
    "  shinyApp(\n",
    "    ui = tableOutput('table'),\n",
    "        \n",
    "      \n",
    "    \n",
    "    server = function(input, output) {\n",
    "      output$table <- renderTable(df)\n",
    "    }\n",
    "  )\n",
    "\n"
   ]
  }
 ],
 "metadata": {
  "kernelspec": {
   "display_name": "Python 3",
   "language": "python",
   "name": "python3"
  },
  "language_info": {
   "codemirror_mode": {
    "name": "ipython",
    "version": 3
   },
   "file_extension": ".py",
   "mimetype": "text/x-python",
   "name": "python",
   "nbconvert_exporter": "python",
   "pygments_lexer": "ipython3",
   "version": "3.6.3"
  }
 },
 "nbformat": 4,
 "nbformat_minor": 2
}
