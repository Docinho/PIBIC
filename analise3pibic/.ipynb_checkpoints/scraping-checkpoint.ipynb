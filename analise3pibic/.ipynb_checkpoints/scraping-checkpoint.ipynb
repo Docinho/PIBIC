{
 "cells": [
  {
   "cell_type": "code",
   "execution_count": 11,
   "metadata": {},
   "outputs": [],
   "source": [
    "library(dplyr)\n",
    "library(stringr)\n",
    "library(shiny)\n",
    "library(rvest)\n",
    "library(reticulate)\n",
    "\n",
    "source_python(\"LRGrades.py\")"
   ]
  },
  {
   "cell_type": "code",
   "execution_count": null,
   "metadata": {},
   "outputs": [],
   "source": [
    "# url de login do Controle Acadêmico\n",
    "url <- \"https://pre.ufcg.edu.br:8443/ControleAcademicoOnline\"\n",
    "\n",
    "tabelaNotas <- function(matricula, senha) {\n",
    "    pgsession<-html_session(url)\n",
    "    pgform<-html_form(pgsession)[[1]]  \n",
    "    filled_form<-set_values(pgform, login=matricula, senha=senha)\n",
    "    submit_form(pgsession, filled_form)\n",
    "\n",
    "    urlLogada <- \"https://pre.ufcg.edu.br:8443/ControleAcademicoOnline/Controlador?command=AlunoHistorico\"\n",
    "\n",
    "    page <- jump_to(pgsession, urlLogada)\n",
    "\n",
    "\n",
    "    table <- page %>% read_html() %>% html_nodes(xpath = \"/html/body/div[3]/div[3]/div[3]/table\") %>% html_table() \n",
    "    df <- as.data.frame(table)\n",
    "    df_notas <- df %>% select('Disciplina', 'Média', 'Situação')\n",
    "\n",
    "    df_notas_base <- df_notas %>% filter(Situação != \"Em Curso\" , Situação != \"Dispensa\", !str_detect(Disciplina, \"^TECC\"))\n",
    "    \n",
    "    return(df_notas_base)\n",
    "}\n",
    "\n",
    "tabelaNotasFiltradas <- function(df_notas_base) {\n",
    "    df_notas_base <- dfNotas %>% select('Disciplina', 'Média')\n",
    "    df_notas_base[\"Matricula\"] <- 0\n",
    "    write.csv(df_notas_base, \"temp.csv\", row.names = FALSE)\n",
    "    \n",
    "}\n",
    "\n",
    "matricula = \"116110076\"\n",
    "senha = \"100%mais\"\n",
    "shinyApp(\n",
    "\n",
    "    ui <- fluidPage( \n",
    "        textInput(\"matricula\", \"Matrícula\",width = 9),\n",
    "        \n",
    "        textInput(\"senha\", \"Senha\",width = 20),\n",
    "        \n",
    "        tableOutput('table')\n",
    "\n",
    "      ),\n",
    "\n",
    "    server <- function(input, output) {\n",
    "\n",
    "        output$value <- renderText({\n",
    "            input$matricula\n",
    "        })\n",
    "\n",
    "        output$value <- renderText({\n",
    "            input$senha\n",
    "        })\n",
    "        \n",
    "        \n",
    "        output$table <- renderTable(tabelaNotas(matricula, senha))\n",
    "        output$table <- renderTable(predicao())\n",
    "#         output$table <- renderTable(tabelaNotas(input$matricula, input$senha))\n",
    "#         output$table <- renderTable((predicao(tabelaNotasFiltradas(input$matricula, input$senha))))\n",
    "\n",
    "    }\n",
    ")"
   ]
  },
  {
   "cell_type": "code",
   "execution_count": null,
   "metadata": {
    "collapsed": true
   },
   "outputs": [],
   "source": []
  },
  {
   "cell_type": "code",
   "execution_count": null,
   "metadata": {
    "collapsed": true
   },
   "outputs": [],
   "source": []
  }
 ],
 "metadata": {
  "kernelspec": {
   "display_name": "R",
   "language": "R",
   "name": "ir"
  },
  "language_info": {
   "codemirror_mode": "r",
   "file_extension": ".r",
   "mimetype": "text/x-r-source",
   "name": "R",
   "pygments_lexer": "r",
   "version": "3.4.4"
  }
 },
 "nbformat": 4,
 "nbformat_minor": 2
}
