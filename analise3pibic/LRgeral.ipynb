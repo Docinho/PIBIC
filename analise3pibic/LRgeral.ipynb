{
 "cells": [
  {
   "cell_type": "code",
   "execution_count": null,
   "metadata": {},
   "outputs": [],
   "source": [
    "import pandas as pd\n",
    "from sklearn.linear_model import LinearRegression\n",
    "import numpy as np"
   ]
  },
  {
   "cell_type": "code",
   "execution_count": null,
   "metadata": {},
   "outputs": [],
   "source": [
    "alunos = pd.read_csv(\"../alunosUFCGAnon.csv\")\n",
    "alunos.head()\n",
    "pre_requisitos = pd.read_csv(\"../preRequisito.csv\")\n",
    "pre_requisitos.head()"
   ]
  },
  {
   "cell_type": "code",
   "execution_count": null,
   "metadata": {},
   "outputs": [],
   "source": [
    "alunos.head()"
   ]
  },
  {
   "cell_type": "code",
   "execution_count": null,
   "metadata": {
    "scrolled": true
   },
   "outputs": [],
   "source": [
    "# ajustando data frame que servirá de entrada\n",
    "alunos_cc = alunos.query(\"Cod_Curso == 14102100 & Tipo == 'Obrigatória' \")\n",
    "alunos_cc.sort_values('Media_Disciplina', ascending=False).drop_duplicates(['Nome_Disciplina','Matricula'])\n",
    "COMPUTACAOtdf = pd.pivot_table(alunos_cc, values = 'Media_Disciplina', index = ['Nome_Disciplina'], columns = 'Matricula')\n",
    "notas_alunos = alunos_cc\n",
    "notas_alunos['Matricula'] = alunos_cc['Matricula'].map(lambda x: x.lstrip('B'))\n",
    "notas_alunos = pd.pivot_table(notas_alunos, values = 'Media_Disciplina', index = ['Matricula'], columns = 'Nome_Disciplina')\n",
    "notas_alunos.head()\n",
    "# cadeiras que não exigem prerrequisito\n",
    "sem_prerequisito = ['DIREITO E CIDADANIA','GERÊNCIA DA INFORMAÇÃO','INFORMÁTICA E SOCIEDADE','MATEMÁTICA DISCRETA',\n",
    "                    'METODOLOGIA CIENTÍFICA','SEMINÁRIOS (EDUCAÇÃO AMBIENTAL)','CALCULO DIFERENCIAL E INTEGRAL I',\n",
    "                     'PROGRAMAÇÃO I','LABORATÓRIO DE PROGRAMAÇÃO I','ÁLGEBRA VETORIAL E GEOMETRIA ANALÍTICA',\n",
    "                       'LEITURA E PRODUCAO DE TEXTOS','INTRODUÇÃO A COMPUTAÇÃO']"
   ]
  },
  {
   "cell_type": "code",
   "execution_count": null,
   "metadata": {},
   "outputs": [],
   "source": [
    "\n",
    "# alunos_predicao = notas_alunos.sample(n=5)\n",
    "for index, aluno in alunos_predicao.iterrows():\n",
    "    sem_prerequisito = ['DIREITO E CIDADANIA','GERÊNCIA DA INFORMAÇÃO','INFORMÁTICA E SOCIEDADE','MATEMÁTICA DISCRETA',\n",
    "                    'METODOLOGIA CIENTÍFICA','SEMINÁRIOS (EDUCAÇÃO AMBIENTAL)','CALCULO DIFERENCIAL E INTEGRAL I',\n",
    "                     'PROGRAMAÇÃO I','LABORATÓRIO DE PROGRAMAÇÃO I','ÁLGEBRA VETORIAL E GEOMETRIA ANALÍTICA',\n",
    "                       'LEITURA E PRODUCAO DE TEXTOS','INTRODUÇÃO A COMPUTAÇÃO']\n",
    "    # coletando quais cadeiras o aluno já foi aprovado\n",
    "    cadeiras_pagas = aluno.T.dropna().to_frame()\n",
    "    print(cadeiras_pagas)\n",
    "    cadeiras_pagas = cadeiras_pagas[cadeiras_pagas.iloc[:,0] >= 5]\n",
    "\n",
    "    cadeira_possivel = []\n",
    "\n",
    "    # vendo quais cadeiras sem prerrequisito já foram pagas pelo aluno\n",
    "    for cadeira in sem_prerequisito:\n",
    "        if not cadeira in cadeiras_pagas.index:\n",
    "            cadeira_possivel.append(cadeira)\n",
    "    prox_possiveis_cadeiras = prox_cadeiras_nome(cadeiras_pagas, cadeira_possivel, pre_requisitos)#.loc[0:1]\n",
    "    \n",
    "    print(\"##PRINT CADEIRAS PAGAS##\")\n",
    "    print(cadeiras_pagas)\n",
    "    print(\"PRINT CADEIRAS POSSIVEIS\")\n",
    "    print(prox_possiveis_cadeiras)\n",
    "    \n",
    "    dict_notas = {}\n",
    "    \n",
    "    print(\"=====================\")\n",
    "#     for cadeira in prox_possiveis_cadeiras:\n",
    "#         dict_notas[cadeira] = math.trunc(get_nota(COMPUTACAOtdf.T[[cadeira]],k_vizinhos, cadeira)*10)\n",
    "\n",
    "#     # imprimindo notas preditas\n",
    "#     list_notas = sorted(dict_notas.items(), key = operator.itemgetter(1), reverse = True)\n",
    "#     print(\"Notas do historico do aluno:\")\n",
    "#     print(aluno.T.dropna())\n",
    "#     print(\"-----------\")\n",
    "#     print(\"Notas preditas: \")\n",
    "#     if not list_notas:\n",
    "#         print(\"Sem recomendaçao\")\n",
    "#     else:\n",
    "#         for cadeira in list_notas: \n",
    "#             print(cadeira[0], \": \", cadeira[1]/10)\n",
    "    \n",
    "#     print(\"================ \\n\")\n"
   ]
  },
  {
   "cell_type": "code",
   "execution_count": null,
   "metadata": {},
   "outputs": [],
   "source": [
    "%run util.ipynb\n",
    "# list(pre_requisitos[pre_requisitos.columns[1]])"
   ]
  },
  {
   "cell_type": "code",
   "execution_count": null,
   "metadata": {},
   "outputs": [],
   "source": [
    "oi = pre_requisitos.loc[pre_requisitos[pre_requisitos.columns[1]].isin(cadeiras_pagas.index)]\n",
    "oi1=oi[[oi.columns[0]]]\n",
    "list(oi1[oi.columns[0]])\n"
   ]
  },
  {
   "cell_type": "code",
   "execution_count": null,
   "metadata": {},
   "outputs": [],
   "source": [
    "rng = np.random.RandomState(1)\n",
    "X = np.sort(200 * rng.rand(600, 1) - 100, axis=0)"
   ]
  },
  {
   "cell_type": "code",
   "execution_count": null,
   "metadata": {},
   "outputs": [],
   "source": [
    "import numpy as np\n",
    "import matplotlib.pyplot as plt\n",
    "from sklearn.ensemble import RandomForestRegressor\n",
    "from sklearn.model_selection import train_test_split\n",
    "from sklearn.multioutput import MultiOutputRegressor\n",
    "\n",
    "\n",
    "# Create a random dataset\n",
    "rng = np.random.RandomState(1)\n",
    "X = np.sort(200 * rng.rand(600, 1) - 100, axis=0)\n",
    "y = np.array([np.pi * np.sin(X).ravel(), np.pi * np.cos(X).ravel()]).T\n",
    "y += (0.5 - rng.rand(*y.shape))\n",
    "\n",
    "X_train, X_test, y_train, y_test = train_test_split(X, y,\n",
    "                                                    train_size=400,\n",
    "                                                    random_state=4)\n",
    "\n",
    "max_depth = 30\n",
    "regr_multirf = MultiOutputRegressor(RandomForestRegressor(max_depth=max_depth,\n",
    "                                                          random_state=0))\n",
    "regr_multirf.fit(X_train, y_train)"
   ]
  },
  {
   "cell_type": "code",
   "execution_count": null,
   "metadata": {},
   "outputs": [],
   "source": [
    "colunas_disciplina = notas_alunos.columns\n",
    "modelos = []\n",
    "for cadeira in colunas_disciplina:\n",
    "    \n",
    "    X_treino, X_teste, y_treino, y_teste = train_test_split(notas_alunos.loc[:, notas_alunos.columns != cadeira], notas_alunos.loc[:, cadeira],\n",
    "                                                    train_size=1,\n",
    "                                                    random_state=4)\n",
    "    regr_multirf.fit(X_treino, y_treino)\n",
    "#     modelos.put(cadeira: )"
   ]
  },
  {
   "cell_type": "code",
   "execution_count": null,
   "metadata": {},
   "outputs": [],
   "source": [
    "notas_alunos.columns\n",
    "split = notas_alunos.loc[:,notas_alunos.columns != a]\n",
    "split"
   ]
  },
  {
   "cell_type": "code",
   "execution_count": null,
   "metadata": {},
   "outputs": [],
   "source": [
    "possibilidades = pre_requisitos.loc[pre_requisitos[pre_requisitos.columns[1]].isin(cadeiras_pagas.index)]\n",
    "possibilidades"
   ]
  }
 ],
 "metadata": {
  "kernelspec": {
   "display_name": "Python 3",
   "language": "python",
   "name": "python3"
  },
  "language_info": {
   "codemirror_mode": {
    "name": "ipython",
    "version": 3
   },
   "file_extension": ".py",
   "mimetype": "text/x-python",
   "name": "python",
   "nbconvert_exporter": "python",
   "pygments_lexer": "ipython3",
   "version": "3.6.3"
  }
 },
 "nbformat": 4,
 "nbformat_minor": 2
}
