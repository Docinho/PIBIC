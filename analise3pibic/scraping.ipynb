{
 "cells": [
  {
   "cell_type": "code",
   "execution_count": 5,
   "metadata": {},
   "outputs": [
    {
     "name": "stderr",
     "output_type": "stream",
     "text": [
      "Installing package into ‘/home/livia/R/x86_64-pc-linux-gnu-library/3.4’\n",
      "(as ‘lib’ is unspecified)\n",
      "Warning message in install.packages(\"rPython\"):\n",
      "“installation of package ‘rPython’ had non-zero exit status”"
     ]
    }
   ],
   "source": [
    "library(dplyr)\n",
    "library(shiny)\n",
    "library(rvest)\n",
    "# library(rPython)\n",
    "install.packages(\"rPython\")"
   ]
  },
  {
   "cell_type": "code",
   "execution_count": null,
   "metadata": {
    "collapsed": true
   },
   "outputs": [],
   "source": [
    "\n",
    "\n",
    "\n",
    "url <- \"https://pre.ufcg.edu.br:8443/ControleAcademicoOnline\"\n",
    "\n",
    "tabelaNotas <- function(matricula, senha) {\n",
    "    pgsession<-html_session(url)\n",
    "    pgform<-html_form(pgsession)[[1]]  \n",
    "    filled_form<-set_values(pgform, login=matricula, senha=senha)\n",
    "    submit_form(pgsession, filled_form)\n",
    "\n",
    "    urlLogada <- \"https://pre.ufcg.edu.br:8443/ControleAcademicoOnline/Controlador?command=AlunoHistorico\"\n",
    "\n",
    "    page <- jump_to(pgsession, urlLogada)\n",
    "\n",
    "\n",
    "    table <- page %>% read_html() %>% html_nodes(xpath = \"/html/body/div[3]/div[3]/div[3]/table\") %>% html_table() \n",
    "    df <- as.data.frame(table)\n",
    "    df_notas <- df %>% select('Disciplina', 'Média', 'Situação')\n",
    "\n",
    "    df_notas_base <- df_notas %>% filter(Situação != \"Em Curso\")\n",
    "    return(df_notas_base)\n",
    "}\n",
    "\n",
    "shinyApp(\n",
    "\n",
    "    ui <- fluidPage( \n",
    "        textInput(\"matricula\", \"Matrícula\",width = 9),\n",
    "        \n",
    "        textInput(\"senha\", \"Senha\",width = 20),\n",
    "        \n",
    "        tableOutput('table')\n",
    "\n",
    "      ),\n",
    "\n",
    "    server <- function(input, output) {\n",
    "\n",
    "        output$value <- renderText({\n",
    "            input$matricula\n",
    "        })\n",
    "\n",
    "        output$value <- renderText({\n",
    "            input$senha\n",
    "        })\n",
    "        \n",
    "        \n",
    "\n",
    "#         output$table <- renderTable(tabelaNotas(input$matricula, input$senha))\n",
    "        output$table <- renderTable((predicao(tabelaNotas(input$matricula, input$senha) %>% select('Disciplina', 'Média'))))\n",
    "\n",
    "    }\n",
    ")"
   ]
  },
  {
   "cell_type": "code",
   "execution_count": 6,
   "metadata": {},
   "outputs": [
    {
     "name": "stderr",
     "output_type": "stream",
     "text": [
      "Warning message in install.packages(\"rPython\", \"/home/user/anaconda3/lib/R/library\"):\n",
      "“'lib = \"/home/user/anaconda3/lib/R/library\"' is not writable”"
     ]
    },
    {
     "ename": "ERROR",
     "evalue": "Error in install.packages(\"rPython\", \"/home/user/anaconda3/lib/R/library\"): unable to install packages\n",
     "output_type": "error",
     "traceback": [
      "Error in install.packages(\"rPython\", \"/home/user/anaconda3/lib/R/library\"): unable to install packages\nTraceback:\n",
      "1. install.packages(\"rPython\", \"/home/user/anaconda3/lib/R/library\")",
      "2. stop(\"unable to install packages\")"
     ]
    }
   ],
   "source": [
    "install.packages(\"rPython\", \"/home/user/anaconda3/lib/R/library\")"
   ]
  }
 ],
 "metadata": {
  "kernelspec": {
   "display_name": "R",
   "language": "R",
   "name": "ir"
  },
  "language_info": {
   "codemirror_mode": "r",
   "file_extension": ".r",
   "mimetype": "text/x-r-source",
   "name": "R",
   "pygments_lexer": "r",
   "version": "3.4.3"
  }
 },
 "nbformat": 4,
 "nbformat_minor": 2
}
